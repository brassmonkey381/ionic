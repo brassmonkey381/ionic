{
 "cells": [
  {
   "cell_type": "code",
   "execution_count": 44,
   "metadata": {},
   "outputs": [
    {
     "name": "stdout",
     "output_type": "stream",
     "text": [
      "The autoreload extension is already loaded. To reload it, use:\n",
      "  %reload_ext autoreload\n"
     ]
    }
   ],
   "source": [
    "%load_ext autoreload\n",
    "%autoreload 2"
   ]
  },
  {
   "cell_type": "code",
   "execution_count": 45,
   "metadata": {
    "collapsed": true
   },
   "outputs": [],
   "source": [
    "import pandas as pd\n",
    "import numpy as np\n",
    "from kangaroo_tools import * "
   ]
  },
  {
   "cell_type": "code",
   "execution_count": 46,
   "metadata": {
    "collapsed": true
   },
   "outputs": [],
   "source": [
    "wiki_kangaroo_words = pd.read_csv('wiki_kangaroo_words.csv')"
   ]
  },
  {
   "cell_type": "code",
   "execution_count": 47,
   "metadata": {},
   "outputs": [
    {
     "data": {
      "text/html": [
       "<div>\n",
       "<style>\n",
       "    .dataframe thead tr:only-child th {\n",
       "        text-align: right;\n",
       "    }\n",
       "\n",
       "    .dataframe thead th {\n",
       "        text-align: left;\n",
       "    }\n",
       "\n",
       "    .dataframe tbody tr th {\n",
       "        vertical-align: top;\n",
       "    }\n",
       "</style>\n",
       "<table border=\"1\" class=\"dataframe\">\n",
       "  <thead>\n",
       "    <tr style=\"text-align: right;\">\n",
       "      <th></th>\n",
       "      <th>Unnamed: 0</th>\n",
       "      <th>joey_word</th>\n",
       "      <th>kangaroo_word</th>\n",
       "      <th>anti-kangaroo</th>\n",
       "      <th>twin-kangaroo</th>\n",
       "    </tr>\n",
       "  </thead>\n",
       "  <tbody>\n",
       "    <tr>\n",
       "      <th>0</th>\n",
       "      <td>0</td>\n",
       "      <td>errant</td>\n",
       "      <td>aberrant</td>\n",
       "      <td>False</td>\n",
       "      <td>False</td>\n",
       "    </tr>\n",
       "    <tr>\n",
       "      <th>1</th>\n",
       "      <td>1</td>\n",
       "      <td>anomaly</td>\n",
       "      <td>abnormality</td>\n",
       "      <td>False</td>\n",
       "      <td>False</td>\n",
       "    </tr>\n",
       "    <tr>\n",
       "      <th>2</th>\n",
       "      <td>2</td>\n",
       "      <td>bide</td>\n",
       "      <td>abide</td>\n",
       "      <td>False</td>\n",
       "      <td>False</td>\n",
       "    </tr>\n",
       "    <tr>\n",
       "      <th>3</th>\n",
       "      <td>3</td>\n",
       "      <td>acclimate</td>\n",
       "      <td>acclimatize</td>\n",
       "      <td>False</td>\n",
       "      <td>False</td>\n",
       "    </tr>\n",
       "    <tr>\n",
       "      <th>4</th>\n",
       "      <td>4</td>\n",
       "      <td>used</td>\n",
       "      <td>accustomed</td>\n",
       "      <td>False</td>\n",
       "      <td>False</td>\n",
       "    </tr>\n",
       "  </tbody>\n",
       "</table>\n",
       "</div>"
      ],
      "text/plain": [
       "   Unnamed: 0  joey_word kangaroo_word  anti-kangaroo  twin-kangaroo\n",
       "0           0     errant      aberrant          False          False\n",
       "1           1    anomaly   abnormality          False          False\n",
       "2           2       bide         abide          False          False\n",
       "3           3  acclimate   acclimatize          False          False\n",
       "4           4       used    accustomed          False          False"
      ]
     },
     "execution_count": 47,
     "metadata": {},
     "output_type": "execute_result"
    }
   ],
   "source": [
    "wiki_kangaroo_words.head()"
   ]
  },
  {
   "cell_type": "code",
   "execution_count": 48,
   "metadata": {},
   "outputs": [
    {
     "data": {
      "text/plain": [
       "356"
      ]
     },
     "execution_count": 48,
     "metadata": {},
     "output_type": "execute_result"
    }
   ],
   "source": [
    "len(wiki_kangaroo_words)"
   ]
  },
  {
   "cell_type": "code",
   "execution_count": 49,
   "metadata": {
    "collapsed": true
   },
   "outputs": [],
   "source": [
    "wiki_kangaroo_words = wiki_kangaroo_words.sample(frac=1)\n",
    "wiki_kangaroo_words = wiki_kangaroo_words.sample(frac=1)\n",
    "wiki_kangaroo_words = wiki_kangaroo_words.sample(frac=1)\n",
    "wiki_kangaroo_words = wiki_kangaroo_words.sample(frac=1)"
   ]
  },
  {
   "cell_type": "code",
   "execution_count": 50,
   "metadata": {},
   "outputs": [
    {
     "data": {
      "text/html": [
       "<div>\n",
       "<style>\n",
       "    .dataframe thead tr:only-child th {\n",
       "        text-align: right;\n",
       "    }\n",
       "\n",
       "    .dataframe thead th {\n",
       "        text-align: left;\n",
       "    }\n",
       "\n",
       "    .dataframe tbody tr th {\n",
       "        vertical-align: top;\n",
       "    }\n",
       "</style>\n",
       "<table border=\"1\" class=\"dataframe\">\n",
       "  <thead>\n",
       "    <tr style=\"text-align: right;\">\n",
       "      <th></th>\n",
       "      <th>Unnamed: 0</th>\n",
       "      <th>joey_word</th>\n",
       "      <th>kangaroo_word</th>\n",
       "      <th>anti-kangaroo</th>\n",
       "      <th>twin-kangaroo</th>\n",
       "    </tr>\n",
       "  </thead>\n",
       "  <tbody>\n",
       "    <tr>\n",
       "      <th>265</th>\n",
       "      <td>265</td>\n",
       "      <td>lie</td>\n",
       "      <td>recline</td>\n",
       "      <td>False</td>\n",
       "      <td>False</td>\n",
       "    </tr>\n",
       "  </tbody>\n",
       "</table>\n",
       "</div>"
      ],
      "text/plain": [
       "     Unnamed: 0 joey_word kangaroo_word  anti-kangaroo  twin-kangaroo\n",
       "265         265       lie       recline          False          False"
      ]
     },
     "execution_count": 50,
     "metadata": {},
     "output_type": "execute_result"
    }
   ],
   "source": [
    "wiki_kangaroo_words[wiki_kangaroo_words.joey_word=='lie']"
   ]
  },
  {
   "cell_type": "code",
   "execution_count": 51,
   "metadata": {},
   "outputs": [],
   "source": [
    "df_list = []\n",
    "for i in range(118):\n",
    "    j = i*3\n",
    "    k = j+3\n",
    "    temp = wiki_kangaroo_words.iloc[j:k,1:].reset_index()\n",
    "    puzzle_id = i\n",
    "    joey_words = list(temp['joey_word'].values)\n",
    "    kangaroo_words = list(temp['kangaroo_word'].values)\n",
    "    joey_clues = ['Hint']*len(temp)\n",
    "    \n",
    "    df_list.append(create_puzzle(\n",
    "    puzzle_id = puzzle_id,\n",
    "    joey_words = joey_words,\n",
    "    kangaroo_words = kangaroo_words,\n",
    "    joey_clues = joey_clues\n",
    "    ))"
   ]
  },
  {
   "cell_type": "code",
   "execution_count": 76,
   "metadata": {},
   "outputs": [
    {
     "data": {
      "text/plain": [
       "(['yen', 'anomaly', 'used'], ['yearning', 'abnormality', 'exhausted'])"
      ]
     },
     "execution_count": 76,
     "metadata": {},
     "output_type": "execute_result"
    }
   ],
   "source": [
    "(\n",
    "    [x['joey_word'] for x in df[df.id == 0].puzzle_rows[0]],\n",
    "    [x['kangaroo_word'] for x in df[df.id == 0].puzzle_rows[0]]\n",
    ")"
   ]
  },
  {
   "cell_type": "code",
   "execution_count": 70,
   "metadata": {
    "collapsed": true
   },
   "outputs": [],
   "source": [
    "df[df.id == 0].puzzle_rows[0][0]['joey_clue'] = 'a longing'\n",
    "df[df.id == 0].puzzle_rows[0][1]['joey_clue'] = 'an oddity'\n",
    "df[df.id == 0].puzzle_rows[0][2]['joey_clue'] = 'not new'"
   ]
  },
  {
   "cell_type": "code",
   "execution_count": 77,
   "metadata": {},
   "outputs": [
    {
     "data": {
      "text/plain": [
       "(['pants', 'cut', 'balm'], ['pantaloons', 'curtail', 'balsam'])"
      ]
     },
     "execution_count": 77,
     "metadata": {},
     "output_type": "execute_result"
    }
   ],
   "source": [
    "(\n",
    "    [x['joey_word'] for x in df[df.id == 1].puzzle_rows[0]],\n",
    "    [x['kangaroo_word'] for x in df[df.id == 1].puzzle_rows[0]]\n",
    ")"
   ]
  },
  {
   "cell_type": "code",
   "execution_count": 73,
   "metadata": {
    "collapsed": true
   },
   "outputs": [],
   "source": [
    "df[df.id == 1].puzzle_rows[0][0]['joey_clue'] = 'spanish trousers'\n",
    "df[df.id == 1].puzzle_rows[0][1]['joey_clue'] = 'chop off'\n",
    "df[df.id == 1].puzzle_rows[0][2]['joey_clue'] = 'aromatic substance'"
   ]
  },
  {
   "cell_type": "code",
   "execution_count": 78,
   "metadata": {},
   "outputs": [
    {
     "data": {
      "text/plain": [
       "(['prate', 'rain', 'practical'], ['prattle', 'precipitation', 'practicable'])"
      ]
     },
     "execution_count": 78,
     "metadata": {},
     "output_type": "execute_result"
    }
   ],
   "source": [
    "(\n",
    "    [x['joey_word'] for x in df[df.id == 2].puzzle_rows[0]],\n",
    "    [x['kangaroo_word'] for x in df[df.id == 2].puzzle_rows[0]]\n",
    ")"
   ]
  },
  {
   "cell_type": "code",
   "execution_count": 75,
   "metadata": {
    "collapsed": true
   },
   "outputs": [],
   "source": [
    "df[df.id == 2].puzzle_rows[0][0]['joey_clue'] = 'blah blah blah'\n",
    "df[df.id == 2].puzzle_rows[0][1]['joey_clue'] = 'drizzle'\n",
    "df[df.id == 2].puzzle_rows[0][2]['joey_clue'] = 'utilitarian'"
   ]
  },
  {
   "cell_type": "code",
   "execution_count": 79,
   "metadata": {
    "collapsed": true
   },
   "outputs": [],
   "source": [
    "df.to_json(f\"puzzles/puzzle_db.json\", orient=\"records\")"
   ]
  },
  {
   "cell_type": "code",
   "execution_count": 13,
   "metadata": {},
   "outputs": [
    {
     "data": {
      "text/html": [
       "<div>\n",
       "<style>\n",
       "    .dataframe thead tr:only-child th {\n",
       "        text-align: right;\n",
       "    }\n",
       "\n",
       "    .dataframe thead th {\n",
       "        text-align: left;\n",
       "    }\n",
       "\n",
       "    .dataframe tbody tr th {\n",
       "        vertical-align: top;\n",
       "    }\n",
       "</style>\n",
       "<table border=\"1\" class=\"dataframe\">\n",
       "  <thead>\n",
       "    <tr style=\"text-align: right;\">\n",
       "      <th></th>\n",
       "      <th>id</th>\n",
       "      <th>letterbank</th>\n",
       "      <th>letterbank_update</th>\n",
       "      <th>puzzle_rows</th>\n",
       "    </tr>\n",
       "  </thead>\n",
       "  <tbody>\n",
       "    <tr>\n",
       "      <th>0</th>\n",
       "      <td>3</td>\n",
       "      <td>[A, A, A, E, E, E, F, F, G, I, L, L, N, O, R, T]</td>\n",
       "      <td>[A, A, A, E, E, E, F, F, G, I, L, L, N, O, R, T]</td>\n",
       "      <td>[{'joey_word': 'analog', 'kangaroo_word': 'ana...</td>\n",
       "    </tr>\n",
       "  </tbody>\n",
       "</table>\n",
       "</div>"
      ],
      "text/plain": [
       "   id                                        letterbank  \\\n",
       "0   3  [A, A, A, E, E, E, F, F, G, I, L, L, N, O, R, T]   \n",
       "\n",
       "                                  letterbank_update  \\\n",
       "0  [A, A, A, E, E, E, F, F, G, I, L, L, N, O, R, T]   \n",
       "\n",
       "                                         puzzle_rows  \n",
       "0  [{'joey_word': 'analog', 'kangaroo_word': 'ana...  "
      ]
     },
     "execution_count": 13,
     "metadata": {},
     "output_type": "execute_result"
    }
   ],
   "source": [
    "df[df.id==3]\n",
    "# change joey finder aglorithm to truncate word at first found index\n",
    "# joey: LIE, kangaroo: recline\n",
    "# find_index(recline, [l,i,e]):\n",
    "# iterate over the list:\n",
    "# 1) l is 3rd index --> ine \n",
    "# 2) i is 0th index --> ne (+3+1)\n",
    "# 3) e is 1st index --> BREAK (+3+1+(1+1))\n",
    "# joey indicies: 3,4,6    "
   ]
  },
  {
   "cell_type": "code",
   "execution_count": null,
   "metadata": {
    "collapsed": true
   },
   "outputs": [],
   "source": []
  }
 ],
 "metadata": {
  "kernelspec": {
   "display_name": "Python 3",
   "language": "python",
   "name": "python3"
  },
  "language_info": {
   "codemirror_mode": {
    "name": "ipython",
    "version": 3
   },
   "file_extension": ".py",
   "mimetype": "text/x-python",
   "name": "python",
   "nbconvert_exporter": "python",
   "pygments_lexer": "ipython3",
   "version": "3.6.3"
  }
 },
 "nbformat": 4,
 "nbformat_minor": 2
}
