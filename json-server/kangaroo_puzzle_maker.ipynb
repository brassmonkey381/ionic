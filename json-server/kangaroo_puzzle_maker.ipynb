{
 "cells": [
  {
   "cell_type": "code",
   "execution_count": 1,
   "metadata": {},
   "outputs": [],
   "source": [
    "%load_ext autoreload\n",
    "%autoreload 2"
   ]
  },
  {
   "cell_type": "code",
   "execution_count": 2,
   "metadata": {
    "collapsed": true
   },
   "outputs": [],
   "source": [
    "import pandas as pd\n",
    "import numpy as np\n",
    "from kangaroo_tools import * \n",
    "import random"
   ]
  },
  {
   "cell_type": "code",
   "execution_count": 3,
   "metadata": {
    "collapsed": true
   },
   "outputs": [],
   "source": [
    "wiki_kangaroo_words = pd.read_csv('wiki_kangaroo_words.csv')"
   ]
  },
  {
   "cell_type": "code",
   "execution_count": 4,
   "metadata": {},
   "outputs": [
    {
     "data": {
      "text/plain": [
       "[[0, 4, 5, 6, 7, 8, 9], '_onc______']"
      ]
     },
     "execution_count": 4,
     "metadata": {},
     "output_type": "execute_result"
    }
   ],
   "source": [
    "def find_joey_indices(joey, kangaroo):\n",
    "    \"\"\"\n",
    "    returns the indicies of the joey word within the kangaroo word\n",
    "    \"\"\"\n",
    "    ixs = []\n",
    "    kanga = kangaroo\n",
    "    removed_length = 0\n",
    "    for k, char in enumerate(joey):\n",
    "        ix = kanga.index(char)\n",
    "        ixs.append(ix+removed_length)\n",
    "        remove_str = kanga[:ix+1]\n",
    "        removed_length += len(remove_str)\n",
    "        kanga = kanga[ix+1:]\n",
    "        \n",
    "    #last_ix = 0\n",
    "    #for k, char in enumerate(joey):\n",
    "    #    ix = kanga.index(char)\n",
    "    #    if last_ix == 0:\n",
    "    #        ixs.append(ix)\n",
    "    #        last_ix = last_ix+ix+1\n",
    "    #    else:\n",
    "    #        ixs.append(ix+last_ix)\n",
    "    #        if ix == 0:\n",
    "    #            last_ix = ix+last_ix + 1\n",
    "    #        else:\n",
    "    #            last_ix = ix+last_ix\n",
    "    #    if k == len(joey):\n",
    "    #        break\n",
    "    #    else:\n",
    "    #        kanga = kangaroo[last_ix:]\n",
    "    #    \n",
    "    #replace joey indicies with '_' in the kangaroo word\n",
    "    kangaroo = list(kangaroo)\n",
    "    for ix in ixs:\n",
    "        kangaroo[ix] = '_'\n",
    "    kangaroo = \"\".join(kangaroo)\n",
    "    return([ixs, kangaroo])\n",
    "joey='cession'\n",
    "kangaroo='concession'\n",
    "find_joey_indices(joey, kangaroo)"
   ]
  },
  {
   "cell_type": "code",
   "execution_count": 5,
   "metadata": {},
   "outputs": [],
   "source": [
    "df_list = []\n",
    "for i in range(118):\n",
    "    j = i*3\n",
    "    k = j+3\n",
    "    temp = wiki_kangaroo_words.iloc[j:k,:].reset_index()\n",
    "    puzzle_id = i\n",
    "    joey_words = list(temp['joey_word'].values)\n",
    "    kangaroo_words = list(temp['kangaroo_word'].values)\n",
    "    joey_clues = ['Hint']*len(temp)\n",
    "    \n",
    "    df_list.append(create_puzzle(\n",
    "    puzzle_id = puzzle_id,\n",
    "    joey_words = joey_words,\n",
    "    kangaroo_words = kangaroo_words,\n",
    "    joey_clues = joey_clues\n",
    "    ))"
   ]
  },
  {
   "cell_type": "code",
   "execution_count": 6,
   "metadata": {},
   "outputs": [],
   "source": [
    "df = pd.concat(df_list)"
   ]
  },
  {
   "cell_type": "code",
   "execution_count": 7,
   "metadata": {},
   "outputs": [
    {
     "data": {
      "text/plain": [
       "(['sad', 'heritable', 'monish'], ['dismayed', 'inheritable', 'admonish'])"
      ]
     },
     "execution_count": 7,
     "metadata": {},
     "output_type": "execute_result"
    }
   ],
   "source": [
    "(\n",
    "    [x['joey_word'] for x in df[df.id == 0].puzzle_rows[0]],\n",
    "    [x['kangaroo_word'] for x in df[df.id == 0].puzzle_rows[0]]\n",
    ")"
   ]
  },
  {
   "cell_type": "code",
   "execution_count": 8,
   "metadata": {
    "collapsed": true
   },
   "outputs": [],
   "source": [
    "df[df.id == 0].puzzle_rows[0][0]['joey_clue'] = 'feeling down'\n",
    "df[df.id == 0].puzzle_rows[0][1]['joey_clue'] = 'hand me downs'\n",
    "df[df.id == 0].puzzle_rows[0][2]['joey_clue'] = 'warning-ish'"
   ]
  },
  {
   "cell_type": "code",
   "execution_count": 9,
   "metadata": {},
   "outputs": [
    {
     "data": {
      "text/plain": [
       "(['rid', 'hushed', 'rash'], ['eradicated', 'shushed', 'brash'])"
      ]
     },
     "execution_count": 9,
     "metadata": {},
     "output_type": "execute_result"
    }
   ],
   "source": [
    "(\n",
    "    [x['joey_word'] for x in df[df.id == 1].puzzle_rows[0]],\n",
    "    [x['kangaroo_word'] for x in df[df.id == 1].puzzle_rows[0]]\n",
    ")"
   ]
  },
  {
   "cell_type": "code",
   "execution_count": 10,
   "metadata": {
    "collapsed": true
   },
   "outputs": [],
   "source": [
    "df[df.id == 1].puzzle_rows[0][0]['joey_clue'] = 'removed completely'\n",
    "df[df.id == 1].puzzle_rows[0][1]['joey_clue'] = 'silence!'\n",
    "df[df.id == 1].puzzle_rows[0][2]['joey_clue'] = 'it\\'s itchy'"
   ]
  },
  {
   "cell_type": "code",
   "execution_count": 11,
   "metadata": {},
   "outputs": [
    {
     "data": {
      "text/plain": [
       "(['pinned', 'early', 'practical'], ['pinioned', 'prematurely', 'practicable'])"
      ]
     },
     "execution_count": 11,
     "metadata": {},
     "output_type": "execute_result"
    }
   ],
   "source": [
    "(\n",
    "    [x['joey_word'] for x in df[df.id == 2].puzzle_rows[0]],\n",
    "    [x['kangaroo_word'] for x in df[df.id == 2].puzzle_rows[0]]\n",
    ")"
   ]
  },
  {
   "cell_type": "code",
   "execution_count": 12,
   "metadata": {
    "collapsed": true
   },
   "outputs": [],
   "source": [
    "df[df.id == 2].puzzle_rows[0][0]['joey_clue'] = 'Nala did it again'\n",
    "df[df.id == 2].puzzle_rows[0][1]['joey_clue'] = 'too soon'\n",
    "df[df.id == 2].puzzle_rows[0][2]['joey_clue'] = 'utilitarian'"
   ]
  },
  {
   "cell_type": "code",
   "execution_count": 13,
   "metadata": {},
   "outputs": [
    {
     "data": {
      "text/plain": [
       "(['nth', 'nerd', 'tutor'], ['umpteenth', 'neckbeard', 'instructor'])"
      ]
     },
     "execution_count": 13,
     "metadata": {},
     "output_type": "execute_result"
    }
   ],
   "source": [
    "(\n",
    "    [x['joey_word'] for x in df[df.id == 3].puzzle_rows[0]],\n",
    "    [x['kangaroo_word'] for x in df[df.id == 3].puzzle_rows[0]]\n",
    ")"
   ]
  },
  {
   "cell_type": "code",
   "execution_count": 14,
   "metadata": {
    "collapsed": true
   },
   "outputs": [],
   "source": [
    "df[df.id == 3].puzzle_rows[0][0]['joey_clue'] = 'so many'\n",
    "df[df.id == 3].puzzle_rows[0][1]['joey_clue'] = 'geek'\n",
    "df[df.id == 3].puzzle_rows[0][2]['joey_clue'] = 'teacher'"
   ]
  },
  {
   "cell_type": "code",
   "execution_count": 15,
   "metadata": {},
   "outputs": [
    {
     "data": {
      "text/plain": [
       "(['balm', 'rain', 'lucid'], ['balsam', 'precipitation', 'pellucid'])"
      ]
     },
     "execution_count": 15,
     "metadata": {},
     "output_type": "execute_result"
    }
   ],
   "source": [
    "(\n",
    "    [x['joey_word'] for x in df[df.id == 4].puzzle_rows[0]],\n",
    "    [x['kangaroo_word'] for x in df[df.id == 4].puzzle_rows[0]]\n",
    ")"
   ]
  },
  {
   "cell_type": "code",
   "execution_count": 16,
   "metadata": {
    "collapsed": true
   },
   "outputs": [],
   "source": [
    "df[df.id == 4].puzzle_rows[0][0]['joey_clue'] = 'aromatic substance'\n",
    "df[df.id == 4].puzzle_rows[0][1]['joey_clue'] = 'showering'\n",
    "df[df.id == 4].puzzle_rows[0][2]['joey_clue'] = 'easy to understand'"
   ]
  },
  {
   "cell_type": "code",
   "execution_count": 17,
   "metadata": {},
   "outputs": [
    {
     "data": {
      "text/plain": [
       "(['idle', 'die', 'cession'], ['indolent', 'dice', 'concession'])"
      ]
     },
     "execution_count": 17,
     "metadata": {},
     "output_type": "execute_result"
    }
   ],
   "source": [
    "(\n",
    "    [x['joey_word'] for x in df[df.id == 5].puzzle_rows[0]],\n",
    "    [x['kangaroo_word'] for x in df[df.id == 5].puzzle_rows[0]]\n",
    ")"
   ]
  },
  {
   "cell_type": "code",
   "execution_count": 18,
   "metadata": {
    "collapsed": true
   },
   "outputs": [],
   "source": [
    "df[df.id == 5].puzzle_rows[0][0]['joey_clue'] = 'lazy'\n",
    "df[df.id == 5].puzzle_rows[0][1]['joey_clue'] = 'two can be twelve'\n",
    "df[df.id == 5].puzzle_rows[0][2]['joey_clue'] = 'surrender'"
   ]
  },
  {
   "cell_type": "code",
   "execution_count": 19,
   "metadata": {},
   "outputs": [
    {
     "name": "stdout",
     "output_type": "stream",
     "text": [
      "['corporal', 'cleaner', 'recurrence'] ['corporeal', 'cleanser', 'reoccurrence']\n"
     ]
    }
   ],
   "source": [
    "print_row(6, df)"
   ]
  },
  {
   "cell_type": "code",
   "execution_count": 20,
   "metadata": {
    "collapsed": true
   },
   "outputs": [],
   "source": [
    "df[df.id == 6].puzzle_rows[0][0]['joey_clue'] = 'purely physical'\n",
    "df[df.id == 6].puzzle_rows[0][1]['joey_clue'] = 'purifier'\n",
    "df[df.id == 6].puzzle_rows[0][2]['joey_clue'] = 'happens again'"
   ]
  },
  {
   "cell_type": "code",
   "execution_count": 21,
   "metadata": {},
   "outputs": [
    {
     "name": "stdout",
     "output_type": "stream",
     "text": [
      "['bad', 'joy', 'laudatory'] ['substandard', 'joviality', 'applaudatory']\n"
     ]
    }
   ],
   "source": [
    "print_row(7, df)"
   ]
  },
  {
   "cell_type": "code",
   "execution_count": 22,
   "metadata": {
    "collapsed": true
   },
   "outputs": [],
   "source": [
    "df[df.id == 7].puzzle_rows[0][0]['joey_clue'] = 'not good enough'\n",
    "df[df.id == 7].puzzle_rows[0][1]['joey_clue'] = 'santa spreads it'\n",
    "df[df.id == 7].puzzle_rows[0][2]['joey_clue'] = 'praise like'"
   ]
  },
  {
   "cell_type": "code",
   "execution_count": 23,
   "metadata": {
    "collapsed": true
   },
   "outputs": [],
   "source": [
    "df.to_json(f\"puzzles/puzzle_db.json\", orient=\"records\")"
   ]
  },
  {
   "cell_type": "code",
   "execution_count": 24,
   "metadata": {},
   "outputs": [
    {
     "data": {
      "text/html": [
       "<div>\n",
       "<style>\n",
       "    .dataframe thead tr:only-child th {\n",
       "        text-align: right;\n",
       "    }\n",
       "\n",
       "    .dataframe thead th {\n",
       "        text-align: left;\n",
       "    }\n",
       "\n",
       "    .dataframe tbody tr th {\n",
       "        vertical-align: top;\n",
       "    }\n",
       "</style>\n",
       "<table border=\"1\" class=\"dataframe\">\n",
       "  <thead>\n",
       "    <tr style=\"text-align: right;\">\n",
       "      <th></th>\n",
       "      <th>id</th>\n",
       "      <th>letterbank</th>\n",
       "      <th>letterbank_update</th>\n",
       "      <th>puzzle_rows</th>\n",
       "    </tr>\n",
       "  </thead>\n",
       "  <tbody>\n",
       "    <tr>\n",
       "      <th>0</th>\n",
       "      <td>3</td>\n",
       "      <td>[D, E, H, N, N, O, R, R, T, T, T, U]</td>\n",
       "      <td>[D, E, H, N, N, O, R, R, T, T, T, U]</td>\n",
       "      <td>[{'joey_word': 'nth', 'kangaroo_word': 'umptee...</td>\n",
       "    </tr>\n",
       "  </tbody>\n",
       "</table>\n",
       "</div>"
      ],
      "text/plain": [
       "   id                            letterbank  \\\n",
       "0   3  [D, E, H, N, N, O, R, R, T, T, T, U]   \n",
       "\n",
       "                      letterbank_update  \\\n",
       "0  [D, E, H, N, N, O, R, R, T, T, T, U]   \n",
       "\n",
       "                                         puzzle_rows  \n",
       "0  [{'joey_word': 'nth', 'kangaroo_word': 'umptee...  "
      ]
     },
     "execution_count": 24,
     "metadata": {},
     "output_type": "execute_result"
    }
   ],
   "source": [
    "df[df.id==3]\n",
    "# change joey finder aglorithm to truncate word at first found index\n",
    "# joey: LIE, kangaroo: recline\n",
    "# find_index(recline, [l,i,e]):\n",
    "# iterate over the list:\n",
    "# 1) l is 3rd index --> ine \n",
    "# 2) i is 0th index --> ne (+3+1)\n",
    "# 3) e is 1st index --> BREAK (+3+1+(1+1))\n",
    "# joey indicies: 3,4,6    "
   ]
  },
  {
   "cell_type": "code",
   "execution_count": 25,
   "metadata": {},
   "outputs": [
    {
     "data": {
      "text/plain": [
       "array([ [{'joey_word': 'idle', 'kangaroo_word': 'indolent', 'joey_indices': [0, 2, 4, 5], 'kangaroo_unfilled': ['_', 'n', '_', 'o', '_', '_', 'n', 't'], 'joey_clue': 'lazy'}, {'joey_word': 'die', 'kangaroo_word': 'dice', 'joey_indices': [0, 1, 3], 'kangaroo_unfilled': ['_', '_', 'c', '_'], 'joey_clue': 'two can be twelve'}, {'joey_word': 'cession', 'kangaroo_word': 'concession', 'joey_indices': [0, 4, 5, 6, 7, 8, 9], 'kangaroo_unfilled': ['_', 'o', 'n', 'c', '_', '_', '_', '_', '_', '_'], 'joey_clue': 'surrender'}]], dtype=object)"
      ]
     },
     "execution_count": 25,
     "metadata": {},
     "output_type": "execute_result"
    }
   ],
   "source": [
    "df[df.id==5].puzzle_rows.values"
   ]
  },
  {
   "cell_type": "code",
   "execution_count": null,
   "metadata": {
    "collapsed": true
   },
   "outputs": [],
   "source": []
  }
 ],
 "metadata": {
  "kernelspec": {
   "display_name": "Python 3",
   "language": "python",
   "name": "python3"
  },
  "language_info": {
   "codemirror_mode": {
    "name": "ipython",
    "version": 3
   },
   "file_extension": ".py",
   "mimetype": "text/x-python",
   "name": "python",
   "nbconvert_exporter": "python",
   "pygments_lexer": "ipython3",
   "version": "3.6.3"
  }
 },
 "nbformat": 4,
 "nbformat_minor": 2
}
