{
 "cells": [
  {
   "cell_type": "code",
   "execution_count": 1,
   "metadata": {
    "collapsed": true
   },
   "outputs": [],
   "source": [
    "from requests import get\n",
    "from requests.exceptions import RequestException\n",
    "from contextlib import closing\n",
    "from bs4 import BeautifulSoup\n",
    "import pandas as pd\n",
    "import re "
   ]
  },
  {
   "cell_type": "code",
   "execution_count": 2,
   "metadata": {
    "collapsed": true
   },
   "outputs": [],
   "source": [
    "def simple_get(url):\n",
    "    \"\"\"\n",
    "    Attempts to get the content at `url` by making an HTTP GET request.\n",
    "    If the content-type of response is some kind of HTML/XML, return the\n",
    "    text content, otherwise return None.\n",
    "    \"\"\"\n",
    "    try:\n",
    "        with closing(get(url, stream=True)) as resp:\n",
    "            if is_good_response(resp):\n",
    "                return resp.content\n",
    "            else:\n",
    "                return None\n",
    "\n",
    "    except RequestException as e:\n",
    "        log_error('Error during requests to {0} : {1}'.format(url, str(e)))\n",
    "        return None\n",
    "\n",
    "\n",
    "def is_good_response(resp):\n",
    "    \"\"\"\n",
    "    Returns True if the response seems to be HTML, False otherwise.\n",
    "    \"\"\"\n",
    "    content_type = resp.headers['Content-Type'].lower()\n",
    "    return (resp.status_code == 200 \n",
    "            and content_type is not None \n",
    "            and content_type.find('html') > -1)\n",
    "\n",
    "\n",
    "def log_error(e):\n",
    "    \"\"\"\n",
    "    It is always a good idea to log errors. \n",
    "    This function just prints them, but you can\n",
    "    make it do anything.\n",
    "    \"\"\"\n",
    "    print(e)"
   ]
  },
  {
   "cell_type": "code",
   "execution_count": 3,
   "metadata": {},
   "outputs": [
    {
     "data": {
      "text/plain": [
       "45648"
      ]
     },
     "execution_count": 3,
     "metadata": {},
     "output_type": "execute_result"
    }
   ],
   "source": [
    "raw_html = simple_get('https://en.wiktionary.org/wiki/Appendix:Kangaroo_words')\n",
    "len(raw_html)"
   ]
  },
  {
   "cell_type": "code",
   "execution_count": 4,
   "metadata": {
    "collapsed": true
   },
   "outputs": [],
   "source": [
    "html = BeautifulSoup(raw_html, 'html.parser')\n",
    "counter = 0\n",
    "kangaroo_messy_list = []\n",
    "for p in html.select('#mw-content-text ul li'):\n",
    "    kangaroo_messy_list.append(p)\n",
    "    counter+=1\n",
    "    if counter >= 400:\n",
    "        break"
   ]
  },
  {
   "cell_type": "code",
   "execution_count": 5,
   "metadata": {
    "collapsed": true
   },
   "outputs": [],
   "source": [
    "joey_list = []\n",
    "pattern=\"<b>(\\w+?)<\\/b>\"\n",
    "for html_row in kangaroo_messy_list:\n",
    "    m = re.split(pattern, str(html_row))\n",
    "    joey_list.append(''.join(m[1:][::2]))"
   ]
  },
  {
   "cell_type": "code",
   "execution_count": 6,
   "metadata": {
    "collapsed": true
   },
   "outputs": [],
   "source": [
    "kangaroo_list = []\n",
    "pattern=\"<\\/*.+?>(\\w+?)<\\/*.+?>\"\n",
    "pattern_2 = \"(\\w+)\"\n",
    "for html_row in kangaroo_messy_list:\n",
    "    m = re.split(pattern, str(html_row))\n",
    "    new_string = ''.join(m)\n",
    "    m = re.split(pattern_2, new_string)\n",
    "    kangaroo_list.append(m[1])    "
   ]
  },
  {
   "cell_type": "code",
   "execution_count": 7,
   "metadata": {
    "collapsed": true
   },
   "outputs": [],
   "source": [
    "df = pd.DataFrame({'joey_word':joey_list, 'kangaroo_word':kangaroo_list})"
   ]
  },
  {
   "cell_type": "code",
   "execution_count": 8,
   "metadata": {
    "collapsed": true
   },
   "outputs": [],
   "source": [
    "df['anti-kangaroo'] = False\n",
    "df['twin-kangaroo'] = False\n",
    "df.loc[325:,'anti-kangaroo'] = True"
   ]
  },
  {
   "cell_type": "code",
   "execution_count": 9,
   "metadata": {
    "collapsed": true
   },
   "outputs": [],
   "source": [
    "df.loc[df['kangaroo_word'] == 'alone', 'joey_word'] = 'one'\n",
    "df.loc[df['kangaroo_word'] == 'amicability', 'joey_word'] = 'amity'\n",
    "df.loc[df['kangaroo_word'] == 'blatherskite', 'joey_word'] = 'blah'\n",
    "df.loc[df['kangaroo_word'] == 'canister', 'joey_word'] = 'can'\n",
    "df.loc[df['kangaroo_word'] == 'feasted', 'joey_word'] = 'ate'\n",
    "df.loc[df['kangaroo_word'] == 'frangible ', 'joey_word'] = 'frail' #grand-kangaroo (fragile)\n",
    "df.loc[df['kangaroo_word'] == 'masculine', 'joey_word'] = 'man'"
   ]
  },
  {
   "cell_type": "code",
   "execution_count": 10,
   "metadata": {
    "collapsed": true
   },
   "outputs": [],
   "source": [
    "df.loc[df['kangaroo_word'] == 'alone', 'twin-kangaroo'] = True\n",
    "df.loc[df['kangaroo_word'] == 'amicability', 'twin-kangaroo'] = True\n",
    "df.loc[df['kangaroo_word'] == 'blatherskite', 'twin-kangaroo'] = True\n",
    "df.loc[df['kangaroo_word'] == 'canister', 'twin-kangaroo'] = True\n",
    "df.loc[df['kangaroo_word'] == 'feasted', 'twin-kangaroo'] = True\n",
    "df.loc[df['kangaroo_word'] == 'frangible ', 'twin-kangaroo'] = True #grand-kangaroo\n",
    "df.loc[df['kangaroo_word'] == 'masculine', 'twin-kangaroo'] = True"
   ]
  },
  {
   "cell_type": "code",
   "execution_count": 11,
   "metadata": {
    "collapsed": true
   },
   "outputs": [],
   "source": [
    "## manual fixes\n",
    "df.loc[df['kangaroo_word'] == 'strives', 'joey_word'] = 'tries'"
   ]
  },
  {
   "cell_type": "code",
   "execution_count": 13,
   "metadata": {},
   "outputs": [],
   "source": [
    "df.to_csv('wiki_kangaroo_words.csv')"
   ]
  }
 ],
 "metadata": {
  "kernelspec": {
   "display_name": "Python 3",
   "language": "python",
   "name": "python3"
  },
  "language_info": {
   "codemirror_mode": {
    "name": "ipython",
    "version": 3
   },
   "file_extension": ".py",
   "mimetype": "text/x-python",
   "name": "python",
   "nbconvert_exporter": "python",
   "pygments_lexer": "ipython3",
   "version": "3.6.3"
  }
 },
 "nbformat": 4,
 "nbformat_minor": 2
}
