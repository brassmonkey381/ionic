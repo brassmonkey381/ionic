{
 "cells": [
  {
   "cell_type": "code",
   "execution_count": 60,
   "metadata": {},
   "outputs": [
    {
     "name": "stdout",
     "output_type": "stream",
     "text": [
      "The autoreload extension is already loaded. To reload it, use:\n",
      "  %reload_ext autoreload\n"
     ]
    }
   ],
   "source": [
    "%load_ext autoreload\n",
    "%autoreload 2"
   ]
  },
  {
   "cell_type": "code",
   "execution_count": 61,
   "metadata": {
    "collapsed": true
   },
   "outputs": [],
   "source": [
    "import pandas as pd\n",
    "import numpy as np\n",
    "from kangaroo_tools import * "
   ]
  },
  {
   "cell_type": "code",
   "execution_count": 62,
   "metadata": {
    "collapsed": true
   },
   "outputs": [],
   "source": [
    "wiki_kangaroo_words = pd.read_csv('wiki_kangaroo_words.csv')"
   ]
  },
  {
   "cell_type": "code",
   "execution_count": 63,
   "metadata": {},
   "outputs": [
    {
     "data": {
      "text/plain": [
       "356"
      ]
     },
     "execution_count": 63,
     "metadata": {},
     "output_type": "execute_result"
    }
   ],
   "source": [
    "len(wiki_kangaroo_words)"
   ]
  },
  {
   "cell_type": "code",
   "execution_count": 64,
   "metadata": {
    "collapsed": true
   },
   "outputs": [],
   "source": [
    "wiki_kangaroo_words = wiki_kangaroo_words.sample(frac=1)\n",
    "wiki_kangaroo_words = wiki_kangaroo_words.sample(frac=1)\n",
    "wiki_kangaroo_words = wiki_kangaroo_words.sample(frac=1)\n",
    "wiki_kangaroo_words = wiki_kangaroo_words.sample(frac=1)"
   ]
  },
  {
   "cell_type": "code",
   "execution_count": 65,
   "metadata": {
    "collapsed": true
   },
   "outputs": [],
   "source": [
    "df_list = []\n",
    "for i in range(118):\n",
    "    j = i*3\n",
    "    k = j+3\n",
    "    temp = wiki_kangaroo_words.iloc[j:k,1:].reset_index()\n",
    "    puzzle_id = i\n",
    "    joey_words = list(temp['joey_word'].values)\n",
    "    kangaroo_words = list(temp['kangaroo_word'].values)\n",
    "    joey_clues = ['Hint']*len(temp)\n",
    "    \n",
    "    df_list.append(create_puzzle(\n",
    "    puzzle_id = puzzle_id,\n",
    "    joey_words = joey_words,\n",
    "    kangaroo_words = kangaroo_words,\n",
    "    joey_clues = joey_clues\n",
    "    ))"
   ]
  },
  {
   "cell_type": "code",
   "execution_count": 66,
   "metadata": {},
   "outputs": [
    {
     "data": {
      "text/html": [
       "<div>\n",
       "<style>\n",
       "    .dataframe thead tr:only-child th {\n",
       "        text-align: right;\n",
       "    }\n",
       "\n",
       "    .dataframe thead th {\n",
       "        text-align: left;\n",
       "    }\n",
       "\n",
       "    .dataframe tbody tr th {\n",
       "        vertical-align: top;\n",
       "    }\n",
       "</style>\n",
       "<table border=\"1\" class=\"dataframe\">\n",
       "  <thead>\n",
       "    <tr style=\"text-align: right;\">\n",
       "      <th></th>\n",
       "      <th>id</th>\n",
       "      <th>letterbank</th>\n",
       "      <th>letterbank_update</th>\n",
       "      <th>puzzle_rows</th>\n",
       "    </tr>\n",
       "  </thead>\n",
       "  <tbody>\n",
       "    <tr>\n",
       "      <th>0</th>\n",
       "      <td>0</td>\n",
       "      <td>[C, D, D, E, E, E, E, F, K, L, N, R, R, S, S]</td>\n",
       "      <td>[C, D, D, E, E, E, E, F, K, L, N, R, R, S, S]</td>\n",
       "      <td>[{'joey_word': 'reckless', 'kangaroo_word': 'w...</td>\n",
       "    </tr>\n",
       "    <tr>\n",
       "      <th>0</th>\n",
       "      <td>1</td>\n",
       "      <td>[A, A, B, C, C, E, E, E, L, M, M, N, S, S, T, ...</td>\n",
       "      <td>[A, A, B, C, C, E, E, E, L, M, M, N, S, S, T, ...</td>\n",
       "      <td>[{'joey_word': 'cut', 'kangaroo_word': 'curtai...</td>\n",
       "    </tr>\n",
       "    <tr>\n",
       "      <th>0</th>\n",
       "      <td>2</td>\n",
       "      <td>[A, A, C, C, D, E, E, E, E, I, I, O, P, R, S, ...</td>\n",
       "      <td>[A, A, C, C, D, E, E, E, E, I, I, O, P, R, S, ...</td>\n",
       "      <td>[{'joey_word': 'dissociate', 'kangaroo_word': ...</td>\n",
       "    </tr>\n",
       "    <tr>\n",
       "      <th>0</th>\n",
       "      <td>3</td>\n",
       "      <td>[E, E, E, I, I, L, L, N, S, W]</td>\n",
       "      <td>[E, E, E, I, I, L, L, N, S, W]</td>\n",
       "      <td>[{'joey_word': 'lie', 'kangaroo_word': 'reclin...</td>\n",
       "    </tr>\n",
       "    <tr>\n",
       "      <th>0</th>\n",
       "      <td>4</td>\n",
       "      <td>[A, B, D, E, E, E, E, H, I, I, L, O, O, P, P, ...</td>\n",
       "      <td>[A, B, D, E, E, E, E, H, I, I, L, O, O, P, P, ...</td>\n",
       "      <td>[{'joey_word': 'posed', 'kangaroo_word': 'post...</td>\n",
       "    </tr>\n",
       "  </tbody>\n",
       "</table>\n",
       "</div>"
      ],
      "text/plain": [
       "   id                                         letterbank  \\\n",
       "0   0      [C, D, D, E, E, E, E, F, K, L, N, R, R, S, S]   \n",
       "0   1  [A, A, B, C, C, E, E, E, L, M, M, N, S, S, T, ...   \n",
       "0   2  [A, A, C, C, D, E, E, E, E, I, I, O, P, R, S, ...   \n",
       "0   3                     [E, E, E, I, I, L, L, N, S, W]   \n",
       "0   4  [A, B, D, E, E, E, E, H, I, I, L, O, O, P, P, ...   \n",
       "\n",
       "                                   letterbank_update  \\\n",
       "0      [C, D, D, E, E, E, E, F, K, L, N, R, R, S, S]   \n",
       "0  [A, A, B, C, C, E, E, E, L, M, M, N, S, S, T, ...   \n",
       "0  [A, A, C, C, D, E, E, E, E, I, I, O, P, R, S, ...   \n",
       "0                     [E, E, E, I, I, L, L, N, S, W]   \n",
       "0  [A, B, D, E, E, E, E, H, I, I, L, O, O, P, P, ...   \n",
       "\n",
       "                                         puzzle_rows  \n",
       "0  [{'joey_word': 'reckless', 'kangaroo_word': 'w...  \n",
       "0  [{'joey_word': 'cut', 'kangaroo_word': 'curtai...  \n",
       "0  [{'joey_word': 'dissociate', 'kangaroo_word': ...  \n",
       "0  [{'joey_word': 'lie', 'kangaroo_word': 'reclin...  \n",
       "0  [{'joey_word': 'posed', 'kangaroo_word': 'post...  "
      ]
     },
     "execution_count": 66,
     "metadata": {},
     "output_type": "execute_result"
    }
   ],
   "source": [
    "df = pd.concat(df_list)\n",
    "df.head()"
   ]
  },
  {
   "cell_type": "code",
   "execution_count": 67,
   "metadata": {
    "collapsed": true
   },
   "outputs": [],
   "source": [
    "df.to_json(f\"puzzles/puzzle_db.json\", orient=\"records\")"
   ]
  },
  {
   "cell_type": "code",
   "execution_count": null,
   "metadata": {
    "collapsed": true
   },
   "outputs": [],
   "source": []
  }
 ],
 "metadata": {
  "kernelspec": {
   "display_name": "Python 3",
   "language": "python",
   "name": "python3"
  },
  "language_info": {
   "codemirror_mode": {
    "name": "ipython",
    "version": 3
   },
   "file_extension": ".py",
   "mimetype": "text/x-python",
   "name": "python",
   "nbconvert_exporter": "python",
   "pygments_lexer": "ipython3",
   "version": "3.6.3"
  }
 },
 "nbformat": 4,
 "nbformat_minor": 2
}
